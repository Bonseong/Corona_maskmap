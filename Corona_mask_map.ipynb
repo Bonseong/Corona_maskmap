{
  "nbformat": 4,
  "nbformat_minor": 0,
  "metadata": {
    "kernelspec": {
      "display_name": "Python 3",
      "language": "python",
      "name": "python3"
    },
    "language_info": {
      "codemirror_mode": {
        "name": "ipython",
        "version": 3
      },
      "file_extension": ".py",
      "mimetype": "text/x-python",
      "name": "python",
      "nbconvert_exporter": "python",
      "pygments_lexer": "ipython3",
      "version": "3.8.1"
    },
    "colab": {
      "name": "Corona_mask_map.ipynb",
      "provenance": [],
      "include_colab_link": true
    }
  },
  "cells": [
    {
      "cell_type": "markdown",
      "metadata": {
        "id": "view-in-github",
        "colab_type": "text"
      },
      "source": [
        "<a href=\"https://colab.research.google.com/github/Bonseong/Corona_maskmap/blob/master/Corona_mask_map.ipynb\" target=\"_parent\"><img src=\"https://colab.research.google.com/assets/colab-badge.svg\" alt=\"Open In Colab\"/></a>"
      ]
    },
    {
      "cell_type": "code",
      "metadata": {
        "id": "sRI-O3H5CEoQ",
        "colab_type": "code",
        "colab": {}
      },
      "source": [
        "import requests\n",
        "import json\n",
        "import pandas as pd\n",
        "import numpy as np\n",
        "from pandas.io.json import json_normalize\n",
        "\n",
        "import folium\n",
        "import matplotlib.pyplot as plt\n",
        "from folium.plugins import MarkerCluster\n",
        "import warnings\n",
        "warnings.filterwarnings(action='ignore')"
      ],
      "execution_count": 0,
      "outputs": []
    },
    {
      "cell_type": "code",
      "metadata": {
        "scrolled": true,
        "id": "gs3Yc8paCEoa",
        "colab_type": "code",
        "colab": {}
      },
      "source": [
        "address=pd.DataFrame()\n",
        "for i in range(1,10):\n",
        "    url = \"https://8oi9s0nnth.apigw.ntruss.com/corona19-masks/v1/stores/json?page=\" + str(i) + '&perPage=5000'\n",
        "    response = requests.get(url)\n",
        "    output = json.loads(response.content)\n",
        "    output_df=json_normalize(output['storeInfos'])\n",
        "    \n",
        "    address=pd.concat([address,output_df])\n",
        "\n",
        "address=address.reset_index(drop=True)"
      ],
      "execution_count": 0,
      "outputs": []
    },
    {
      "cell_type": "code",
      "metadata": {
        "scrolled": true,
        "id": "yLwv7YMZCEoi",
        "colab_type": "code",
        "colab": {}
      },
      "source": [
        "sales=pd.DataFrame()\n",
        "output_df=pd.DataFrame()\n",
        "for i in range(1,10):\n",
        "    url = \"https://8oi9s0nnth.apigw.ntruss.com/corona19-masks/v1/sales/json?page=\" + str(i) + '&perPage=5000'\n",
        "    response = requests.get(url)\n",
        "    output = json.loads(response.content)\n",
        "    output_df=json_normalize(output['sales'])\n",
        "    sales=pd.concat([sales,output_df])\n",
        "    \n",
        "sales=sales.reset_index(drop=True).drop(sales.columns[[4,5,6]],axis='columns')"
      ],
      "execution_count": 0,
      "outputs": []
    },
    {
      "cell_type": "code",
      "metadata": {
        "id": "fVjSn1CkCEoq",
        "colab_type": "code",
        "colab": {}
      },
      "source": [
        "final=pd.merge(address,sales,on='code')\n",
        "final=final.dropna(how='any')"
      ],
      "execution_count": 0,
      "outputs": []
    },
    {
      "cell_type": "code",
      "metadata": {
        "id": "yLzw9AvfCEoz",
        "colab_type": "code",
        "colab": {}
      },
      "source": [
        "final=final.reset_index(drop=True)"
      ],
      "execution_count": 0,
      "outputs": []
    },
    {
      "cell_type": "code",
      "metadata": {
        "id": "clw4POK0CEo9",
        "colab_type": "code",
        "colab": {}
      },
      "source": [
        "final['remain_stat_color']=''"
      ],
      "execution_count": 0,
      "outputs": []
    },
    {
      "cell_type": "code",
      "metadata": {
        "id": "qh241mACCEpJ",
        "colab_type": "code",
        "colab": {}
      },
      "source": [
        "for i in range(len(final)):\n",
        "    if final['remain_stat'][i]=='plenty':\n",
        "        final['remain_stat'][i] = '100개 이상'\n",
        "        final['remain_stat_color'][i] = 'green'\n",
        "    elif final['remain_stat'][i] == 'some':\n",
        "        final['remain_stat'][i] = '30개 이상 100개 미만'\n",
        "        final['remain_stat_color'][i] = 'orange'\n",
        "    elif final['remain_stat'][i] =='few':\n",
        "        final['remain_stat'][i] = '2개 이상 30개 미만'\n",
        "        final['remain_stat_color'][i] = 'red'\n",
        "    elif final['remain_stat'][i] == 'empty':\n",
        "        final['remain_stat'][i] = '1개 이하'\n",
        "        final['remain_stat_color'][i] = 'lightgray'\n",
        "    else:\n",
        "        final['remain_stat'][i] = '판매중지'\n",
        "        final['remain_stat_color'][i] = 'gray'"
      ],
      "execution_count": 0,
      "outputs": []
    },
    {
      "cell_type": "code",
      "metadata": {
        "id": "FUPutJhxCEpN",
        "colab_type": "code",
        "colab": {}
      },
      "source": [
        "map = folium.Map(\n",
        "    location=[36,128.3],\n",
        "    zoom_start=7)"
      ],
      "execution_count": 0,
      "outputs": []
    },
    {
      "cell_type": "code",
      "metadata": {
        "scrolled": true,
        "id": "6K7BABIvCEpU",
        "colab_type": "code",
        "colab": {}
      },
      "source": [
        "marker_cluster = MarkerCluster().add_to(map)\n",
        "for i in range(len(final)):\n",
        "    folium.Marker([final['lat'][i],final['lng'][i]],\n",
        "                    icon=folium.Icon(color=final['remain_stat_color'][i]),\n",
        "                    popup=folium.Popup('<strong>' + final['name'][i]+'</strong><br>'+\n",
        "                                       '<strong>''주소 : ''</strong>' + final['addr'][i]+ '<br>'+\n",
        "                                       '<strong>''재고수량 : ''</strong>'+ final['remain_stat'][i]+'<br>'+\n",
        "                                       '<strong>''입고시간 : ''</strong>' + final['stock_at'][i], max_width=500)\n",
        "                 ).add_to(marker_cluster)"
      ],
      "execution_count": 0,
      "outputs": []
    },
    {
      "cell_type": "code",
      "metadata": {
        "id": "oCUHYGtICEpa",
        "colab_type": "code",
        "colab": {}
      },
      "source": [
        "from branca.element import Template, MacroElement\n",
        "\n",
        "template = \"\"\"\n",
        "{% macro html(this, kwargs) %}\n",
        "\n",
        "<!doctype html>\n",
        "<html lang=\"en\">\n",
        "<head>\n",
        "  <meta charset=\"utf-8\">\n",
        "  <meta name=\"viewport\" content=\"width=device-width, initial-scale=1\">\n",
        "  <title>마스크 잔여수량 MAP</title>\n",
        "  <link rel=\"stylesheet\" href=\"//code.jquery.com/ui/1.12.1/themes/base/jquery-ui.css\">\n",
        "\n",
        "  <script src=\"https://code.jquery.com/jquery-1.12.4.js\"></script>\n",
        "  <script src=\"https://code.jquery.com/ui/1.12.1/jquery-ui.js\"></script>\n",
        "  \n",
        "  <script>\n",
        "  $( function() {\n",
        "    $( \"#maplegend\" ).draggable({\n",
        "                    start: function (event, ui) {\n",
        "                        $(this).css({\n",
        "                            right: \"auto\",\n",
        "                            top: \"auto\",\n",
        "                            bottom: \"auto\"\n",
        "                        });\n",
        "                    }\n",
        "                });\n",
        "});\n",
        "\n",
        "  </script>\n",
        "</head>\n",
        "<body>\n",
        "\n",
        " \n",
        "<div id='maplegend' class='maplegend' \n",
        "    style='position: absolute; z-index:9999; border:2px solid grey; background-color:rgba(255, 255, 255, 0.8);\n",
        "     border-radius:6px; padding: 10px; font-size:14px; right: 20px; bottom: 20px;'>\n",
        "     \n",
        "<div class='legend-title'>마스크 수량</div>\n",
        "<div class='legend-scale'>\n",
        "  <ul class='legend-labels'>\n",
        "    <li><span style='background:green;opacity:0.7;'></span>100개 이상</li>\n",
        "    <li><span style='background:orange;opacity:0.7;'></span>30개 이상 100개미만</li>\n",
        "    <li><span style='background:red;opacity:0.7;'></span>2개 이상 30개 미만</li>\n",
        "    <li><span style='background:gray;opacity:0.7;'></span>1개 이하</li>\n",
        "    <li><span style='background:black;opacity:0.7;'></span>판매 중지</li>\n",
        "\n",
        "  </ul>\n",
        "</div>\n",
        "</div>\n",
        " \n",
        "</body>\n",
        "</html>\n",
        "\n",
        "<style type='text/css'>\n",
        "  .maplegend .legend-title {\n",
        "    text-align: left;\n",
        "    margin-bottom: 5px;\n",
        "    font-weight: bold;\n",
        "    font-size: 90%;\n",
        "    }\n",
        "  .maplegend .legend-scale ul {\n",
        "    margin: 0;\n",
        "    margin-bottom: 5px;\n",
        "    padding: 0;\n",
        "    float: left;\n",
        "    list-style: none;\n",
        "    }\n",
        "  .maplegend .legend-scale ul li {\n",
        "    font-size: 80%;\n",
        "    list-style: none;\n",
        "    margin-left: 0;\n",
        "    line-height: 18px;\n",
        "    margin-bottom: 2px;\n",
        "    }\n",
        "  .maplegend ul.legend-labels li span {\n",
        "    display: block;\n",
        "    float: left;\n",
        "    height: 16px;\n",
        "    width: 30px;\n",
        "    margin-right: 5px;\n",
        "    margin-left: 0;\n",
        "    border: 1px solid #999;\n",
        "    }\n",
        "  .maplegend .legend-source {\n",
        "    font-size: 80%;\n",
        "    color: #777;\n",
        "    clear: both;\n",
        "    }\n",
        "  .maplegend a {\n",
        "    color: #777;\n",
        "    }\n",
        "</style>\n",
        "{% endmacro %}\"\"\"\n",
        "\n",
        "macro = MacroElement()\n",
        "macro._template = Template(template)\n",
        "\n",
        "map.get_root().add_child(macro)\n",
        "\n",
        "map.save('corona_map.html')"
      ],
      "execution_count": 0,
      "outputs": []
    },
    {
      "cell_type": "code",
      "metadata": {
        "id": "EHfiar1JCLiD",
        "colab_type": "code",
        "colab": {}
      },
      "source": [
        "map"
      ],
      "execution_count": 0,
      "outputs": []
    }
  ]
}